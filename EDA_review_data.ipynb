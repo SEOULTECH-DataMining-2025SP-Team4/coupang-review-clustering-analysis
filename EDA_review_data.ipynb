{
 "cells": [
  {
   "metadata": {},
   "cell_type": "markdown",
   "source": "# EDA of review_data.csv",
   "id": "f355a514425db41f"
  },
  {
   "cell_type": "code",
   "id": "initial_id",
   "metadata": {
    "collapsed": true,
    "ExecuteTime": {
     "end_time": "2025-06-05T07:50:11.255476Z",
     "start_time": "2025-06-05T07:50:11.253699Z"
    }
   },
   "source": [
    "import pandas as pd\n",
    "import numpy as np"
   ],
   "outputs": [],
   "execution_count": 33
  },
  {
   "metadata": {
    "ExecuteTime": {
     "end_time": "2025-06-05T07:50:12.185639Z",
     "start_time": "2025-06-05T07:50:11.270246Z"
    }
   },
   "cell_type": "code",
   "source": [
    "# 데이터 로드\n",
    "df = pd.read_csv('data/Coupang-reviews-homeplanet/review_data.csv')"
   ],
   "id": "977d536d9c717f52",
   "outputs": [],
   "execution_count": 34
  },
  {
   "metadata": {
    "ExecuteTime": {
     "end_time": "2025-06-05T07:50:12.197712Z",
     "start_time": "2025-06-05T07:50:12.194315Z"
    }
   },
   "cell_type": "code",
   "source": "df.head(5)",
   "id": "d61e7b0bbeb8b150",
   "outputs": [
    {
     "data": {
      "text/plain": [
       "                                          상품명  \\\n",
       "0  홈플래닛 10W USB-A 2포트 멀티 충전기 (5V 2A), 화이트, 1개   \n",
       "1  홈플래닛 10W USB-A 2포트 멀티 충전기 (5V 2A), 화이트, 1개   \n",
       "2  홈플래닛 10W USB-A 2포트 멀티 충전기 (5V 2A), 화이트, 1개   \n",
       "3  홈플래닛 10W USB-A 2포트 멀티 충전기 (5V 2A), 화이트, 1개   \n",
       "4  홈플래닛 10W USB-A 2포트 멀티 충전기 (5V 2A), 화이트, 1개   \n",
       "\n",
       "                                        구매상품명        작성일자 구매자명  평점      헤드라인  \\\n",
       "0  홈플래닛 10W USB-A 2포트 멀티 충전기 (5V 2A), 화이트, 1개  2025.06.04  아아잉   5       NaN   \n",
       "1  홈플래닛 10W USB-A 2포트 멀티 충전기 (5V 2A), 화이트, 1개  2025.06.03  정*날   5  잘 작동합니다.   \n",
       "2  홈플래닛 10W USB-A 2포트 멀티 충전기 (5V 2A), 화이트, 2개  2025.06.03  정*준   5       NaN   \n",
       "3  홈플래닛 10W USB-A 2포트 멀티 충전기 (5V 2A), 화이트, 1개  2025.06.03  백경민   5       NaN   \n",
       "4  홈플래닛 10W USB-A 2포트 멀티 충전기 (5V 2A), 화이트, 1개  2025.06.03  백*수   3       NaN   \n",
       "\n",
       "       리뷰내용  도움수  이미지수  \n",
       "0       NaN    0     0  \n",
       "1  잘 작동합니다.    0     0  \n",
       "2       NaN    0     0  \n",
       "3       NaN    0     0  \n",
       "4       NaN    0     0  "
      ],
      "text/html": [
       "<div>\n",
       "<style scoped>\n",
       "    .dataframe tbody tr th:only-of-type {\n",
       "        vertical-align: middle;\n",
       "    }\n",
       "\n",
       "    .dataframe tbody tr th {\n",
       "        vertical-align: top;\n",
       "    }\n",
       "\n",
       "    .dataframe thead th {\n",
       "        text-align: right;\n",
       "    }\n",
       "</style>\n",
       "<table border=\"1\" class=\"dataframe\">\n",
       "  <thead>\n",
       "    <tr style=\"text-align: right;\">\n",
       "      <th></th>\n",
       "      <th>상품명</th>\n",
       "      <th>구매상품명</th>\n",
       "      <th>작성일자</th>\n",
       "      <th>구매자명</th>\n",
       "      <th>평점</th>\n",
       "      <th>헤드라인</th>\n",
       "      <th>리뷰내용</th>\n",
       "      <th>도움수</th>\n",
       "      <th>이미지수</th>\n",
       "    </tr>\n",
       "  </thead>\n",
       "  <tbody>\n",
       "    <tr>\n",
       "      <th>0</th>\n",
       "      <td>홈플래닛 10W USB-A 2포트 멀티 충전기 (5V 2A), 화이트, 1개</td>\n",
       "      <td>홈플래닛 10W USB-A 2포트 멀티 충전기 (5V 2A), 화이트, 1개</td>\n",
       "      <td>2025.06.04</td>\n",
       "      <td>아아잉</td>\n",
       "      <td>5</td>\n",
       "      <td>NaN</td>\n",
       "      <td>NaN</td>\n",
       "      <td>0</td>\n",
       "      <td>0</td>\n",
       "    </tr>\n",
       "    <tr>\n",
       "      <th>1</th>\n",
       "      <td>홈플래닛 10W USB-A 2포트 멀티 충전기 (5V 2A), 화이트, 1개</td>\n",
       "      <td>홈플래닛 10W USB-A 2포트 멀티 충전기 (5V 2A), 화이트, 1개</td>\n",
       "      <td>2025.06.03</td>\n",
       "      <td>정*날</td>\n",
       "      <td>5</td>\n",
       "      <td>잘 작동합니다.</td>\n",
       "      <td>잘 작동합니다.</td>\n",
       "      <td>0</td>\n",
       "      <td>0</td>\n",
       "    </tr>\n",
       "    <tr>\n",
       "      <th>2</th>\n",
       "      <td>홈플래닛 10W USB-A 2포트 멀티 충전기 (5V 2A), 화이트, 1개</td>\n",
       "      <td>홈플래닛 10W USB-A 2포트 멀티 충전기 (5V 2A), 화이트, 2개</td>\n",
       "      <td>2025.06.03</td>\n",
       "      <td>정*준</td>\n",
       "      <td>5</td>\n",
       "      <td>NaN</td>\n",
       "      <td>NaN</td>\n",
       "      <td>0</td>\n",
       "      <td>0</td>\n",
       "    </tr>\n",
       "    <tr>\n",
       "      <th>3</th>\n",
       "      <td>홈플래닛 10W USB-A 2포트 멀티 충전기 (5V 2A), 화이트, 1개</td>\n",
       "      <td>홈플래닛 10W USB-A 2포트 멀티 충전기 (5V 2A), 화이트, 1개</td>\n",
       "      <td>2025.06.03</td>\n",
       "      <td>백경민</td>\n",
       "      <td>5</td>\n",
       "      <td>NaN</td>\n",
       "      <td>NaN</td>\n",
       "      <td>0</td>\n",
       "      <td>0</td>\n",
       "    </tr>\n",
       "    <tr>\n",
       "      <th>4</th>\n",
       "      <td>홈플래닛 10W USB-A 2포트 멀티 충전기 (5V 2A), 화이트, 1개</td>\n",
       "      <td>홈플래닛 10W USB-A 2포트 멀티 충전기 (5V 2A), 화이트, 1개</td>\n",
       "      <td>2025.06.03</td>\n",
       "      <td>백*수</td>\n",
       "      <td>3</td>\n",
       "      <td>NaN</td>\n",
       "      <td>NaN</td>\n",
       "      <td>0</td>\n",
       "      <td>0</td>\n",
       "    </tr>\n",
       "  </tbody>\n",
       "</table>\n",
       "</div>"
      ]
     },
     "execution_count": 35,
     "metadata": {},
     "output_type": "execute_result"
    }
   ],
   "execution_count": 35
  },
  {
   "metadata": {
    "ExecuteTime": {
     "end_time": "2025-06-05T07:50:12.233429Z",
     "start_time": "2025-06-05T07:50:12.231437Z"
    }
   },
   "cell_type": "code",
   "source": [
    "# 데이터의 기본적인 정보 파악\n",
    "print(f\"데이터 크기: {df.shape}\")\n",
    "print(f\"행(리뷰) 수: {df.shape[0]}\")\n",
    "print(f\"열(컬럼) 수: {df.shape[1]}\")"
   ],
   "id": "486bbc708d890ba6",
   "outputs": [
    {
     "name": "stdout",
     "output_type": "stream",
     "text": [
      "데이터 크기: (160856, 9)\n",
      "행(리뷰) 수: 160856\n",
      "열(컬럼) 수: 9\n"
     ]
    }
   ],
   "execution_count": 36
  },
  {
   "metadata": {
    "ExecuteTime": {
     "end_time": "2025-06-05T07:50:12.296808Z",
     "start_time": "2025-06-05T07:50:12.276658Z"
    }
   },
   "cell_type": "code",
   "source": [
    "# 데이터의 컬럼 정보 확인\n",
    "print(\"컬럼 정보:\")\n",
    "print(df.info())\n",
    "print(\"컬럼별 데이터 타입:\")\n",
    "print(df.dtypes)"
   ],
   "id": "30d6449d16ab962e",
   "outputs": [
    {
     "name": "stdout",
     "output_type": "stream",
     "text": [
      "컬럼 정보:\n",
      "<class 'pandas.core.frame.DataFrame'>\n",
      "RangeIndex: 160856 entries, 0 to 160855\n",
      "Data columns (total 9 columns):\n",
      " #   Column  Non-Null Count   Dtype \n",
      "---  ------  --------------   ----- \n",
      " 0   상품명     160856 non-null  object\n",
      " 1   구매상품명   160856 non-null  object\n",
      " 2   작성일자    160856 non-null  object\n",
      " 3   구매자명    160353 non-null  object\n",
      " 4   평점      160856 non-null  int64 \n",
      " 5   헤드라인    71038 non-null   object\n",
      " 6   리뷰내용    97987 non-null   object\n",
      " 7   도움수     160856 non-null  int64 \n",
      " 8   이미지수    160856 non-null  int64 \n",
      "dtypes: int64(3), object(6)\n",
      "memory usage: 11.0+ MB\n",
      "None\n",
      "컬럼별 데이터 타입:\n",
      "상품명      object\n",
      "구매상품명    object\n",
      "작성일자     object\n",
      "구매자명     object\n",
      "평점        int64\n",
      "헤드라인     object\n",
      "리뷰내용     object\n",
      "도움수       int64\n",
      "이미지수      int64\n",
      "dtype: object\n"
     ]
    }
   ],
   "execution_count": 37
  },
  {
   "metadata": {},
   "cell_type": "markdown",
   "source": [
    "결측값 분석\n",
    "- 분석 결과 헤드라인과 리뷰내용 모두 결측값인 경우의 데이터가 60,274개로 전체 데이터의 약 30%를 차지\n",
    "- 따라서 이 데이터들은 텍스트 리뷰 클러스터링 분석에서 제외한 후 따로 분석을 진행"
   ],
   "id": "3e1250c1779917ca"
  },
  {
   "metadata": {
    "ExecuteTime": {
     "end_time": "2025-06-05T07:50:12.367300Z",
     "start_time": "2025-06-05T07:50:12.311372Z"
    }
   },
   "cell_type": "code",
   "source": [
    "# 각 컬럼별 결측값 개수 확인\n",
    "print(\"=== 각 컬럼별 결측값 개수 ===\")\n",
    "missing_counts = df.isnull().sum()\n",
    "print(missing_counts)\n",
    "print()\n",
    "\n",
    "# 결측값 비율 계산 (백분율로 표시)\n",
    "print(\"=== 각 컬럼별 결측값 비율(%) ===\")\n",
    "missing_percentage = (df.isnull().sum() / len(df)) * 100\n",
    "for col, pct in missing_percentage.items():\n",
    "    print(f\"{col}: {pct:.1f}%\")\n",
    "print()\n",
    "\n",
    "# 특히 관심 있는 컬럼들 세부 분석\n",
    "print(\"=== 주요 컬럼 결측값 상세 분석 ===\")\n",
    "print(f\"헤드라인이 NaN인 리뷰 개수: {df['헤드라인'].isnull().sum()}\")\n",
    "print(f\"리뷰내용이 NaN인 리뷰 개수: {df['리뷰내용'].isnull().sum()}\")\n",
    "print(f\"헤드라인과 리뷰내용이 모두 NaN인 리뷰 개수: {((df['헤드라인'].isnull()) & (df['리뷰내용'].isnull())).sum()}\")\n",
    "print()\n",
    "\n",
    "# 전체 데이터에서 완전한 리뷰(헤드라인 또는 리뷰내용 중 하나라도 있는 경우) 개수\n",
    "complete_reviews = ((df['헤드라인'].notna()) | (df['리뷰내용'].notna())).sum()\n",
    "print(f\"텍스트 내용이 있는 리뷰 개수: {complete_reviews}\")\n",
    "print(f\"텍스트 내용이 없는 리뷰 개수: {len(df) - complete_reviews}\")"
   ],
   "id": "892d96be62040064",
   "outputs": [
    {
     "name": "stdout",
     "output_type": "stream",
     "text": [
      "=== 각 컬럼별 결측값 개수 ===\n",
      "상품명          0\n",
      "구매상품명        0\n",
      "작성일자         0\n",
      "구매자명       503\n",
      "평점           0\n",
      "헤드라인     89818\n",
      "리뷰내용     62869\n",
      "도움수          0\n",
      "이미지수         0\n",
      "dtype: int64\n",
      "\n",
      "=== 각 컬럼별 결측값 비율(%) ===\n",
      "상품명: 0.0%\n",
      "구매상품명: 0.0%\n",
      "작성일자: 0.0%\n",
      "구매자명: 0.3%\n",
      "평점: 0.0%\n",
      "헤드라인: 55.8%\n",
      "리뷰내용: 39.1%\n",
      "도움수: 0.0%\n",
      "이미지수: 0.0%\n",
      "\n",
      "=== 주요 컬럼 결측값 상세 분석 ===\n",
      "헤드라인이 NaN인 리뷰 개수: 89818\n",
      "리뷰내용이 NaN인 리뷰 개수: 62869\n",
      "헤드라인과 리뷰내용이 모두 NaN인 리뷰 개수: 60274\n",
      "\n",
      "텍스트 내용이 있는 리뷰 개수: 100582\n",
      "텍스트 내용이 없는 리뷰 개수: 60274\n"
     ]
    }
   ],
   "execution_count": 38
  },
  {
   "metadata": {},
   "cell_type": "markdown",
   "source": [
    "평점 분포 분석\n",
    "- 평점은 1점부터 5점까지 있으며, 각 평점별 리뷰 개수와 비율을 계산\n",
    "- 평점 중 고평가(4-5점)와 저평가(1-2점)의 비율을 분석한 결과 대부분의 데이터가 고평가에 해당함을 알 수 있음\n",
    "- 리뷰를 쓴 사람들은 별점을 후하게 준다는 사실을 인지"
   ],
   "id": "85cea6dee053b23c"
  },
  {
   "metadata": {
    "ExecuteTime": {
     "end_time": "2025-06-05T07:50:12.396222Z",
     "start_time": "2025-06-05T07:50:12.376877Z"
    }
   },
   "cell_type": "code",
   "source": [
    "# 평점의 기본 통계량 확인\n",
    "print(\"=== 평점 기본 통계량 ===\")\n",
    "print(df['평점'].describe())\n",
    "print()\n",
    "\n",
    "# 평점별 개수와 비율 계산\n",
    "print(\"=== 평점별 리뷰 개수 및 비율 ===\")\n",
    "rating_counts = df['평점'].value_counts().sort_index()\n",
    "rating_percentages = df['평점'].value_counts(normalize=True).sort_index() * 100\n",
    "\n",
    "for rating in sorted(df['평점'].unique()):\n",
    "    count = rating_counts[rating]\n",
    "    percentage = rating_percentages[rating]\n",
    "    print(f\"{rating}점: {count}개 ({percentage:.1f}%)\")\n",
    "print()\n",
    "\n",
    "# 평점의 분포 특성 분석\n",
    "print(\"=== 평점 분포 특성 ===\")\n",
    "print(f\"평균 평점: {df['평점'].mean():.2f}\")\n",
    "print(f\"중간값(median): {df['평점'].median():.1f}\")\n",
    "print(f\"최빈값(mode): {df['평점'].mode().iloc[0]}\")\n",
    "print(f\"표준편차: {df['평점'].std():.2f}\")\n",
    "print()\n",
    "\n",
    "# 고평점(4-5점)과 저평점(1-2점) 비율\n",
    "high_ratings = df[df['평점'] >= 4].shape[0]\n",
    "low_ratings = df[df['평점'] <= 2].shape[0]\n",
    "total_reviews = len(df)\n",
    "\n",
    "print(f\"고평점(4-5점) 리뷰: {high_ratings}개 ({high_ratings/total_reviews*100:.1f}%)\")\n",
    "print(f\"중간평점(3점) 리뷰: {df[df['평점'] == 3].shape[0]}개 ({df[df['평점'] == 3].shape[0]/total_reviews*100:.1f}%)\")\n",
    "print(f\"저평점(1-2점) 리뷰: {low_ratings}개 ({low_ratings/total_reviews*100:.1f}%)\")"
   ],
   "id": "9a462ff86217f748",
   "outputs": [
    {
     "name": "stdout",
     "output_type": "stream",
     "text": [
      "=== 평점 기본 통계량 ===\n",
      "count    160856.000000\n",
      "mean          4.738872\n",
      "std           0.749505\n",
      "min           1.000000\n",
      "25%           5.000000\n",
      "50%           5.000000\n",
      "75%           5.000000\n",
      "max           5.000000\n",
      "Name: 평점, dtype: float64\n",
      "\n",
      "=== 평점별 리뷰 개수 및 비율 ===\n",
      "1점: 3222개 (2.0%)\n",
      "2점: 1869개 (1.2%)\n",
      "3점: 4724개 (2.9%)\n",
      "4점: 14061개 (8.7%)\n",
      "5점: 136980개 (85.2%)\n",
      "\n",
      "=== 평점 분포 특성 ===\n",
      "평균 평점: 4.74\n",
      "중간값(median): 5.0\n",
      "최빈값(mode): 5\n",
      "표준편차: 0.75\n",
      "\n",
      "고평점(4-5점) 리뷰: 151041개 (93.9%)\n",
      "중간평점(3점) 리뷰: 4724개 (2.9%)\n",
      "저평점(1-2점) 리뷰: 5091개 (3.2%)\n"
     ]
    }
   ],
   "execution_count": 39
  },
  {
   "metadata": {
    "ExecuteTime": {
     "end_time": "2025-06-05T11:19:22.067847Z",
     "start_time": "2025-06-05T11:19:21.962185Z"
    }
   },
   "cell_type": "code",
   "source": [
    "# 평점 분포 시각화\n",
    "import matplotlib.pyplot as plt\n",
    "# 한글 폰트 설정\n",
    "plt.rcParams['font.family'] = 'AppleGothic'  # macOS\n",
    "# 평점 분포 시각화\n",
    "plt.figure(figsize=(10, 6))\n",
    "df['평점'].value_counts().sort_index().plot(kind='bar', color='skyblue')\n",
    "plt.title('평점 분포')\n",
    "plt.xlabel('평점')\n",
    "plt.ylabel('리뷰 개수')\n",
    "plt.xticks(rotation=0)\n",
    "plt.grid(axis='y')\n",
    "plt.show()\n",
    "\n",
    "# 이미지 저장\n",
    "plt.savefig('img/score_distribution.png', dpi=300, bbox_inches='tight')\n"
   ],
   "id": "457f61622c7d0e55",
   "outputs": [
    {
     "data": {
      "text/plain": [
       "<Figure size 1000x600 with 1 Axes>"
      ],
      "image/png": "[encoded data removed]"
     },
     "metadata": {},
     "output_type": "display_data"
    },
    {
     "data": {
      "text/plain": [
       "<Figure size 1200x800 with 0 Axes>"
      ]
     },
     "metadata": {},
     "output_type": "display_data"
    }
   ],
   "execution_count": 55
  },
  {
   "metadata": {},
   "cell_type": "markdown",
   "source": "도움 수 분석",
   "id": "b0e3fbe6a56dec25"
  },
  {
   "metadata": {
    "ExecuteTime": {
     "end_time": "2025-06-05T07:50:12.423266Z",
     "start_time": "2025-06-05T07:50:12.408702Z"
    }
   },
   "cell_type": "code",
   "source": [
    "# 도움수의 기본 통계량 확인\n",
    "print(\"=== 도움수 기본 통계량 ===\")\n",
    "print(df['도움수'].describe())\n",
    "print()\n",
    "\n",
    "# 도움수 분포 상세 분석\n",
    "print(\"=== 도움수 분포 상세 분석 ===\")\n",
    "print(f\"도움수가 0인 리뷰: {(df['도움수'] == 0).sum()}개 ({(df['도움수'] == 0).sum()/len(df)*100:.1f}%)\")\n",
    "print(f\"도움수가 1 이상인 리뷰: {(df['도움수'] > 0).sum()}개 ({(df['도움수'] > 0).sum()/len(df)*100:.1f}%)\")\n",
    "print()\n",
    "\n",
    "# 도움수별 리뷰 개수 (상위 10개만 표시)\n",
    "help_counts = df['도움수'].value_counts().sort_index()\n",
    "print(\"=== 도움수별 리뷰 개수 (상위 10개) ===\")\n",
    "for help_num in sorted(df['도움수'].unique())[:10]:\n",
    "    count = help_counts[help_num]\n",
    "    print(f\"도움수 {help_num}: {count}개\")\n",
    "print()\n",
    "\n",
    "# 도움수가 높은 리뷰들의 특성 분석\n",
    "if df['도움수'].max() > 0:\n",
    "    print(\"=== 도움수가 높은 리뷰들의 특성 ===\")\n",
    "    # 도움수 상위 10% 리뷰들\n",
    "    top_10_percent_threshold = df['도움수'].quantile(0.9)\n",
    "    helpful_reviews = df[df['도움수'] >= top_10_percent_threshold]\n",
    "\n",
    "    print(f\"도움수 상위 10% 기준값: {top_10_percent_threshold}\")\n",
    "    print(f\"상위 10% 리뷰 개수: {len(helpful_reviews)}\")\n",
    "\n",
    "    if len(helpful_reviews) > 0:\n",
    "        print(f\"상위 10% 리뷰들의 평균 평점: {helpful_reviews['평점'].mean():.2f}\")\n",
    "        print(\"상위 10% 리뷰들의 평점 분포:\")\n",
    "        for rating in sorted(helpful_reviews['평점'].unique()):\n",
    "            count = (helpful_reviews['평점'] == rating).sum()\n",
    "            print(f\"  {rating}점: {count}개\")\n",
    "else:\n",
    "    print(\"=== 모든 리뷰의 도움수가 0입니다 ===\")\n",
    "    print(\"이는 최근에 올라온 리뷰들이거나, 아직 다른 사용자들의 평가를 받지 못한 리뷰들일 가능성이 높습니다.\")"
   ],
   "id": "4b1cab53059acf6e",
   "outputs": [
    {
     "name": "stdout",
     "output_type": "stream",
     "text": [
      "=== 도움수 기본 통계량 ===\n",
      "count    160856.000000\n",
      "mean          2.116663\n",
      "std           7.262188\n",
      "min           0.000000\n",
      "25%           0.000000\n",
      "50%           0.000000\n",
      "75%           2.000000\n",
      "max         685.000000\n",
      "Name: 도움수, dtype: float64\n",
      "\n",
      "=== 도움수 분포 상세 분석 ===\n",
      "도움수가 0인 리뷰: 107604개 (66.9%)\n",
      "도움수가 1 이상인 리뷰: 53252개 (33.1%)\n",
      "\n",
      "=== 도움수별 리뷰 개수 (상위 10개) ===\n",
      "도움수 0: 107604개\n",
      "도움수 1: 13031개\n",
      "도움수 2: 8210개\n",
      "도움수 3: 5944개\n",
      "도움수 4: 4514개\n",
      "도움수 5: 3623개\n",
      "도움수 6: 2835개\n",
      "도움수 7: 2365개\n",
      "도움수 8: 1948개\n",
      "도움수 9: 1499개\n",
      "\n",
      "=== 도움수가 높은 리뷰들의 특성 ===\n",
      "도움수 상위 10% 기준값: 6.0\n",
      "상위 10% 리뷰 개수: 17930\n",
      "상위 10% 리뷰들의 평균 평점: 4.85\n",
      "상위 10% 리뷰들의 평점 분포:\n",
      "  1점: 272개\n",
      "  2점: 52개\n",
      "  3점: 212개\n",
      "  4점: 1012개\n",
      "  5점: 16382개\n"
     ]
    }
   ],
   "execution_count": 40
  },
  {
   "metadata": {
    "ExecuteTime": {
     "end_time": "2025-06-05T11:19:35.387853Z",
     "start_time": "2025-06-05T11:19:35.265324Z"
    }
   },
   "cell_type": "code",
   "source": [
    "# 이미지 수 시각화\n",
    "import matplotlib.pyplot as plt\n",
    "# 한글 폰트 설정\n",
    "plt.rcParams['font.family'] = 'AppleGothic'  # macOS\n",
    "# 이미지 수 분포 시각화\n",
    "plt.figure(figsize=(10, 6))\n",
    "df['이미지수'].value_counts().sort_index().plot(kind='bar', color='lightgreen')\n",
    "plt.title('이미지 수 분포')\n",
    "plt.xlabel('이미지 수')\n",
    "plt.ylabel('리뷰 개수')\n",
    "plt.xticks(rotation=0)\n",
    "plt.grid(axis='y')\n",
    "plt.show()\n",
    "plt.savefig('img/image_distribution.png', dpi=300, bbox_inches='tight')\n"
   ],
   "id": "fa03f4e8c65fec64",
   "outputs": [
    {
     "data": {
      "text/plain": [
       "<Figure size 1000x600 with 1 Axes>"
      ],
      "image/png": "[encoded data removed]"
     },
     "metadata": {},
     "output_type": "display_data"
    },
    {
     "data": {
      "text/plain": [
       "<Figure size 1200x800 with 0 Axes>"
      ]
     },
     "metadata": {},
     "output_type": "display_data"
    }
   ],
   "execution_count": 56
  },
  {
   "metadata": {},
   "cell_type": "markdown",
   "source": "이미지 수 분석",
   "id": "3adf549fa9c3eac2"
  },
  {
   "metadata": {
    "ExecuteTime": {
     "end_time": "2025-06-05T07:50:12.453898Z",
     "start_time": "2025-06-05T07:50:12.427527Z"
    }
   },
   "cell_type": "code",
   "source": [
    "# 이미지수의 기본 통계량 확인\n",
    "print(\"=== 이미지수 기본 통계량 ===\")\n",
    "print(df['이미지수'].describe())\n",
    "print()\n",
    "\n",
    "# 이미지수 분포 상세 분석\n",
    "print(\"=== 이미지수 분포 상세 분석 ===\")\n",
    "print(f\"이미지가 없는 리뷰(0개): {(df['이미지수'] == 0).sum()}개 ({(df['이미지수'] == 0).sum()/len(df)*100:.1f}%)\")\n",
    "print(f\"이미지가 있는 리뷰(1개 이상): {(df['이미지수'] > 0).sum()}개 ({(df['이미지수'] > 0).sum()/len(df)*100:.1f}%)\")\n",
    "print()\n",
    "\n",
    "# 이미지수별 리뷰 개수 확인\n",
    "image_counts = df['이미지수'].value_counts().sort_index()\n",
    "print(\"=== 이미지수별 리뷰 개수 ===\")\n",
    "for img_num in sorted(df['이미지수'].unique()):\n",
    "    count = image_counts[img_num]\n",
    "    percentage = count/len(df)*100\n",
    "    print(f\"이미지 {img_num}개: {count}개 ({percentage:.1f}%)\")\n",
    "print()\n",
    "\n",
    "# 이미지가 있는 리뷰들의 특성 분석\n",
    "if df['이미지수'].max() > 0:\n",
    "    print(\"=== 이미지가 있는 리뷰들의 특성 ===\")\n",
    "    reviews_with_images = df[df['이미지수'] > 0]\n",
    "\n",
    "    print(f\"이미지가 있는 리뷰 개수: {len(reviews_with_images)}\")\n",
    "    print(f\"이미지가 있는 리뷰들의 평균 평점: {reviews_with_images['평점'].mean():.2f}\")\n",
    "    print(f\"이미지가 없는 리뷰들의 평균 평점: {df[df['이미지수'] == 0]['평점'].mean():.2f}\")\n",
    "    print()\n",
    "\n",
    "    print(\"이미지가 있는 리뷰들의 평점 분포:\")\n",
    "    for rating in sorted(reviews_with_images['평점'].unique()):\n",
    "        count = (reviews_with_images['평점'] == rating).sum()\n",
    "        total_with_images = len(reviews_with_images)\n",
    "        print(f\"  {rating}점: {count}개 ({count/total_with_images*100:.1f}%)\")\n",
    "\n",
    "    # 이미지가 있는 리뷰의 텍스트 내용 유무 확인\n",
    "    print()\n",
    "    print(\"=== 이미지가 있는 리뷰의 텍스트 내용 분석 ===\")\n",
    "    reviews_with_images_and_text = reviews_with_images[\n",
    "        (reviews_with_images['헤드라인'].notna()) | (reviews_with_images['리뷰내용'].notna())\n",
    "    ]\n",
    "    print(f\"이미지가 있으면서 텍스트 내용도 있는 리뷰: {len(reviews_with_images_and_text)}개\")\n",
    "    print(f\"이미지만 있고 텍스트가 없는 리뷰: {len(reviews_with_images) - len(reviews_with_images_and_text)}개\")\n",
    "\n",
    "else:\n",
    "    print(\"=== 모든 리뷰에 이미지가 없습니다 ===\")\n",
    "    print(\"이는 해당 상품의 리뷰어들이 텍스트만으로 리뷰를 작성했거나,\")\n",
    "    print(\"이미지 업로드가 제한적인 환경임을 의미할 수 있습니다.\")"
   ],
   "id": "41e3ee6d4ff13bb3",
   "outputs": [
    {
     "name": "stdout",
     "output_type": "stream",
     "text": [
      "=== 이미지수 기본 통계량 ===\n",
      "count    160856.000000\n",
      "mean          3.027832\n",
      "std           3.968304\n",
      "min           0.000000\n",
      "25%           0.000000\n",
      "50%           0.000000\n",
      "75%           6.000000\n",
      "max          20.000000\n",
      "Name: 이미지수, dtype: float64\n",
      "\n",
      "=== 이미지수 분포 상세 분석 ===\n",
      "이미지가 없는 리뷰(0개): 85579개 (53.2%)\n",
      "이미지가 있는 리뷰(1개 이상): 75277개 (46.8%)\n",
      "\n",
      "=== 이미지수별 리뷰 개수 ===\n",
      "이미지 0개: 85579개 (53.2%)\n",
      "이미지 1개: 7593개 (4.7%)\n",
      "이미지 2개: 5823개 (3.6%)\n",
      "이미지 3개: 5941개 (3.7%)\n",
      "이미지 4개: 5835개 (3.6%)\n",
      "이미지 5개: 6685개 (4.2%)\n",
      "이미지 6개: 5086개 (3.2%)\n",
      "이미지 7개: 4148개 (2.6%)\n",
      "이미지 8개: 3529개 (2.2%)\n",
      "이미지 9개: 3082개 (1.9%)\n",
      "이미지 10개: 25466개 (15.8%)\n",
      "이미지 11개: 2079개 (1.3%)\n",
      "이미지 12개: 3개 (0.0%)\n",
      "이미지 16개: 1개 (0.0%)\n",
      "이미지 17개: 1개 (0.0%)\n",
      "이미지 18개: 1개 (0.0%)\n",
      "이미지 20개: 4개 (0.0%)\n",
      "\n",
      "=== 이미지가 있는 리뷰들의 특성 ===\n",
      "이미지가 있는 리뷰 개수: 75277\n",
      "이미지가 있는 리뷰들의 평균 평점: 4.81\n",
      "이미지가 없는 리뷰들의 평균 평점: 4.68\n",
      "\n",
      "이미지가 있는 리뷰들의 평점 분포:\n",
      "  1점: 1189개 (1.6%)\n",
      "  2점: 568개 (0.8%)\n",
      "  3점: 1346개 (1.8%)\n",
      "  4점: 5175개 (6.9%)\n",
      "  5점: 66999개 (89.0%)\n",
      "\n",
      "=== 이미지가 있는 리뷰의 텍스트 내용 분석 ===\n",
      "이미지가 있으면서 텍스트 내용도 있는 리뷰: 74882개\n",
      "이미지만 있고 텍스트가 없는 리뷰: 395개\n"
     ]
    }
   ],
   "execution_count": 41
  },
  {
   "metadata": {
    "ExecuteTime": {
     "end_time": "2025-06-05T07:50:12.505077Z",
     "start_time": "2025-06-05T07:50:12.468581Z"
    }
   },
   "cell_type": "code",
   "source": [
    "# 데이터 규모 및 품질 요약\n",
    "print(\"데이터 규모 및 품질\")\n",
    "print(f\"• 총 리뷰 개수: {len(df):,}개\")\n",
    "\n",
    "# 텍스트 완성도\n",
    "text_complete = ((df['헤드라인'].notna()) | (df['리뷰내용'].notna())).sum()\n",
    "print(f\"• 텍스트 내용이 있는 리뷰: {text_complete:,}개 ({text_complete/len(df)*100:.1f}%)\")\n",
    "print(f\"• 텍스트가 없는 리뷰: {len(df)-text_complete:,}개 ({(len(df)-text_complete)/len(df)*100:.1f}%)\")\n",
    "print()\n",
    "\n",
    "# 고객 만족도 분석\n",
    "print(\"고객 만족도 분석\")\n",
    "print(f\"• 평균 평점: {df['평점'].mean():.2f}/5.0\")\n",
    "print(f\"• 최빈 평점: {df['평점'].mode().iloc[0]}점\")\n",
    "\n",
    "# 평점 분포\n",
    "high_rating = (df['평점'] >= 4).sum()\n",
    "mid_rating = (df['평점'] == 3).sum()\n",
    "low_rating = (df['평점'] <= 2).sum()\n",
    "\n",
    "print(f\"• 고평점(4-5점): {high_rating:,}개 ({high_rating/len(df)*100:.1f}%)\")\n",
    "print(f\"• 중간평점(3점): {mid_rating:,}개 ({mid_rating/len(df)*100:.1f}%)\")\n",
    "print(f\"• 저평점(1-2점): {low_rating:,}개 ({low_rating/len(df)*100:.1f}%)\")\n",
    "print()\n",
    "\n",
    "# 3. 리뷰 참여도 분석\n",
    "print(\"리뷰 참여도 분석\")\n",
    "reviews_with_help = (df['도움수'] > 0).sum()\n",
    "reviews_with_images = (df['이미지수'] > 0).sum()\n",
    "\n",
    "print(f\"• 도움수를 받은 리뷰: {reviews_with_help:,}개 ({reviews_with_help/len(df)*100:.1f}%)\")\n",
    "print(f\"• 이미지가 있는 리뷰: {reviews_with_images:,}개 ({reviews_with_images/len(df)*100:.1f}%)\")\n",
    "print(f\"• 평균 도움수: {df['도움수'].mean():.1f}개\")\n",
    "print(f\"• 평균 이미지수: {df['이미지수'].mean():.1f}개\")\n",
    "\n",
    "# 참여도가 높은 리뷰의 특성\n",
    "if reviews_with_help > 0 or reviews_with_images > 0:\n",
    "    engaged_reviews = df[(df['도움수'] > 0) | (df['이미지수'] > 0)]\n",
    "    print(f\"• 참여도가 높은 리뷰의 평균 평점: {engaged_reviews['평점'].mean():.2f}\")\n",
    "print()\n",
    "\n",
    "\n",
    "# 결측값 현황 분석\n",
    "print(\"결측값 현황 분석\")\n",
    "headline_missing = df['헤드라인'].isnull().sum()\n",
    "content_missing = df['리뷰내용'].isnull().sum()\n",
    "both_missing = ((df['헤드라인'].isnull()) & (df['리뷰내용'].isnull())).sum()\n",
    "\n",
    "print(f\"• 헤드라인 누락: {headline_missing:,}개 ({headline_missing/len(df)*100:.1f}%)\")\n",
    "print(f\"• 리뷰내용 누락: {content_missing:,}개 ({content_missing/len(df)*100:.1f}%)\")\n",
    "print(f\"• 텍스트 완전 누락: {both_missing:,}개 ({both_missing/len(df)*100:.1f}%)\")\n"
   ],
   "id": "b98da755516842de",
   "outputs": [
    {
     "name": "stdout",
     "output_type": "stream",
     "text": [
      "데이터 규모 및 품질\n",
      "• 총 리뷰 개수: 160,856개\n",
      "• 텍스트 내용이 있는 리뷰: 100,582개 (62.5%)\n",
      "• 텍스트가 없는 리뷰: 60,274개 (37.5%)\n",
      "\n",
      "고객 만족도 분석\n",
      "• 평균 평점: 4.74/5.0\n",
      "• 최빈 평점: 5점\n",
      "• 고평점(4-5점): 151,041개 (93.9%)\n",
      "• 중간평점(3점): 4,724개 (2.9%)\n",
      "• 저평점(1-2점): 5,091개 (3.2%)\n",
      "\n",
      "리뷰 참여도 분석\n",
      "• 도움수를 받은 리뷰: 53,252개 (33.1%)\n",
      "• 이미지가 있는 리뷰: 75,277개 (46.8%)\n",
      "• 평균 도움수: 2.1개\n",
      "• 평균 이미지수: 3.0개\n",
      "• 참여도가 높은 리뷰의 평균 평점: 4.79\n",
      "\n",
      "결측값 현황 분석\n",
      "• 헤드라인 누락: 89,818개 (55.8%)\n",
      "• 리뷰내용 누락: 62,869개 (39.1%)\n",
      "• 텍스트 완전 누락: 60,274개 (37.5%)\n"
     ]
    }
   ],
   "execution_count": 42
  }
 ],
 "metadata": {
  "kernelspec": {
   "display_name": "Python 3",
   "language": "python",
   "name": "python3"
  },
  "language_info": {
   "codemirror_mode": {
    "name": "ipython",
    "version": 2
   },
   "file_extension": ".py",
   "mimetype": "text/x-python",
   "name": "python",
   "nbconvert_exporter": "python",
   "pygments_lexer": "ipython2",
   "version": "2.7.6"
  }
 },
 "nbformat": 4,
 "nbformat_minor": 5
}
